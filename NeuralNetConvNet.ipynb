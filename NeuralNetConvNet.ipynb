{
 "cells": [
  {
   "cell_type": "markdown",
   "metadata": {},
   "source": [
    "# Neural Nets: Convolution\n",
    "\n",
    "In this lab we try to build a model to detect handwritten digits. This lab should introduce you in the use of keras and should enable you to build and train your own CNNs."
   ]
  },
  {
   "cell_type": "code",
   "execution_count": 1,
   "metadata": {},
   "outputs": [
    {
     "name": "stderr",
     "output_type": "stream",
     "text": [
      "C:\\Users\\awdii\\Anaconda3\\lib\\site-packages\\h5py\\__init__.py:36: FutureWarning: Conversion of the second argument of issubdtype from `float` to `np.floating` is deprecated. In future, it will be treated as `np.float64 == np.dtype(float).type`.\n",
      "  from ._conv import register_converters as _register_converters\n",
      "Using TensorFlow backend.\n"
     ]
    }
   ],
   "source": [
    "\n",
    "# imports\n",
    "from keras.datasets import mnist\n",
    "import matplotlib.pyplot as plt\n",
    "import numpy as np\n",
    "\n",
    "# nn\n",
    "from keras import backend as K\n",
    "from keras.models import Sequential\n",
    "from keras.layers.core import Dense, Dropout, Flatten, Reshape, Activation\n",
    "from keras.layers.convolutional import Conv2D, MaxPooling2D\n",
    "from keras.utils import np_utils\n",
    "\n",
    "# image manipulation\n",
    "import cv2\n",
    "\n",
    "%matplotlib inline"
   ]
  },
  {
   "cell_type": "markdown",
   "metadata": {},
   "source": [
    "First of all, we load our data set that is devided into a training and a testing set."
   ]
  },
  {
   "cell_type": "code",
   "execution_count": 2,
   "metadata": {},
   "outputs": [],
   "source": [
    "# load digit dataset with training and test images\n",
    "(x_train, y_train), (x_test, y_test) = mnist.load_data()"
   ]
  },
  {
   "cell_type": "markdown",
   "metadata": {},
   "source": [
    "In this data set we have 10 different classes. Each data point in this data set is an image of resoution 28x28 and shows a handwirtten digit."
   ]
  },
  {
   "cell_type": "code",
   "execution_count": 3,
   "metadata": {},
   "outputs": [
    {
     "name": "stdout",
     "output_type": "stream",
     "text": [
      "number of rows: 28; number of cols: 28\n"
     ]
    }
   ],
   "source": [
    "nb_classes = 10\n",
    "# dimension\n",
    "img_rows, img_cols = x_train[0].shape\n",
    "print('number of rows: ' + str(img_rows) + '; number of cols: ' + str(img_cols))"
   ]
  },
  {
   "cell_type": "markdown",
   "metadata": {},
   "source": [
    "## greyscale visualization"
   ]
  },
  {
   "cell_type": "code",
   "execution_count": 4,
   "metadata": {},
   "outputs": [
    {
     "name": "stdout",
     "output_type": "stream",
     "text": [
      "(60000, 28, 28)\n",
      "7\n"
     ]
    },
    {
     "data": {
      "text/plain": [
       "<matplotlib.image.AxesImage at 0x13032ef0>"
      ]
     },
     "execution_count": 4,
     "metadata": {},
     "output_type": "execute_result"
    },
    {
     "data": {
      "image/png": "[encoded data removed]",
      "text/plain": [
       "<Figure size 432x288 with 1 Axes>"
      ]
     },
     "metadata": {},
     "output_type": "display_data"
    }
   ],
   "source": [
    "print(x_train.shape)\n",
    "image_index = 7770 #You may select anything up to 60,000\n",
    "print(y_train[image_index]) #\n",
    "plt.imshow(x_train[image_index], cmap='Greys')"
   ]
  },
  {
   "cell_type": "markdown",
   "metadata": {},
   "source": [
    "To get a better feeling for the data we take a look at the first 10 instances."
   ]
  },
  {
   "cell_type": "code",
   "execution_count": 5,
   "metadata": {},
   "outputs": [
    {
     "data": {
      "image/png": "[encoded data removed]",
      "text/plain": [
       "<Figure size 432x288 with 10 Axes>"
      ]
     },
     "metadata": {},
     "output_type": "display_data"
    },
    {
     "name": "stdout",
     "output_type": "stream",
     "text": [
      "number of train images: 60000\n"
     ]
    }
   ],
   "source": [
    "# The data consists of images of digits, let's\n",
    "# have a look at the first 4 images, stored in the `images` attribute of the\n",
    "# dataset. For all images, we know which digit they represent: it is given in the 'target' of\n",
    "# the dataset.\n",
    "num_to_show = 10\n",
    "for i in range(num_to_show):\n",
    "    image = x_train[i]\n",
    "    label = y_train[i]\n",
    "    plt.subplot(2, num_to_show, i + 1)\n",
    "    plt.axis('off')\n",
    "    plt.imshow(image, cmap=plt.cm.gray_r, interpolation='nearest')\n",
    "    plt.title(str(label))\n",
    "plt.show()\n",
    "\n",
    "# print some statistics\n",
    "print('number of train images: ' + str(len(x_train)))"
   ]
  },
  {
   "cell_type": "markdown",
   "metadata": {},
   "source": [
    "<b>Exercise 1:</b>  \n",
    "Create a histogram showing the class distribution."
   ]
  },
  {
   "cell_type": "code",
   "execution_count": 6,
   "metadata": {},
   "outputs": [
    {
     "data": {
      "text/plain": [
       "Text(0,0.5,'Number of images')"
      ]
     },
     "execution_count": 6,
     "metadata": {},
     "output_type": "execute_result"
    },
    {
     "data": {
      "image/png": "[encoded data removed]",
      "text/plain": [
       "<Figure size 864x576 with 1 Axes>"
      ]
     },
     "metadata": {},
     "output_type": "display_data"
    }
   ],
   "source": [
    "# YOUR CODE GOES HERE\n",
    "plt.figure(figsize=(12,8))\n",
    "plt.hist(y_train,bins=20)\n",
    "plt.title(\"Distribution of the training dataset\")\n",
    "plt.xlabel(\"Class Number\")\n",
    "plt.ylabel(\"Number of images\")"
   ]
  },
  {
   "cell_type": "markdown",
   "metadata": {},
   "source": [
    "We have to reshape the training and test data so that a model created by keras can handle it. We do so by just adding an extra dimension."
   ]
  },
  {
   "cell_type": "code",
   "execution_count": 7,
   "metadata": {},
   "outputs": [],
   "source": [
    "# transform data set\n",
    "if K.image_data_format() == 'channels_first':\n",
    "    x_train = x_train.reshape(x_train.shape[0], 1, img_rows, img_cols)\n",
    "    x_test = x_test.reshape(x_test.shape[0], 1, img_rows, img_cols)\n",
    "    input_shape = (1, img_rows, img_cols)\n",
    "else:\n",
    "    x_train = x_train.reshape(x_train.shape[0], img_rows, img_cols, 1)\n",
    "    x_test = x_test.reshape(x_test.shape[0], img_rows, img_cols, 1)\n",
    "    input_shape = (img_rows, img_cols, 1)"
   ]
  },
  {
   "cell_type": "markdown",
   "metadata": {},
   "source": [
    "<b>Simple Neural Model</b>\n",
    "\n",
    "Our first simple model is a neural net with one hidden layer consisting of 512 hidden units and a ReLU activation function. To prevent overfitting a dropout layer is added after that. The input for this net is an image that is converted to a flat vector in the first layer. Please have a look at the architecture and try to understand the structure of this neural net."
   ]
  },
  {
   "cell_type": "code",
   "execution_count": 8,
   "metadata": {},
   "outputs": [
    {
     "name": "stdout",
     "output_type": "stream",
     "text": [
      "WARNING:tensorflow:From C:\\Users\\awdii\\Anaconda3\\lib\\site-packages\\tensorflow\\python\\framework\\op_def_library.py:263: colocate_with (from tensorflow.python.framework.ops) is deprecated and will be removed in a future version.\n",
      "Instructions for updating:\n",
      "Colocations handled automatically by placer.\n",
      "WARNING:tensorflow:From C:\\Users\\awdii\\Anaconda3\\lib\\site-packages\\keras\\backend\\tensorflow_backend.py:3445: calling dropout (from tensorflow.python.ops.nn_ops) with keep_prob is deprecated and will be removed in a future version.\n",
      "Instructions for updating:\n",
      "Please use `rate` instead of `keep_prob`. Rate should be set to `rate = 1 - keep_prob`.\n",
      "_________________________________________________________________\n",
      "Layer (type)                 Output Shape              Param #   \n",
      "=================================================================\n",
      "flatten_1 (Flatten)          (None, 784)               0         \n",
      "_________________________________________________________________\n",
      "dense_1 (Dense)              (None, 512)               401920    \n",
      "_________________________________________________________________\n",
      "dropout_1 (Dropout)          (None, 512)               0         \n",
      "_________________________________________________________________\n",
      "dense_2 (Dense)              (None, 10)                5130      \n",
      "=================================================================\n",
      "Total params: 407,050\n",
      "Trainable params: 407,050\n",
      "Non-trainable params: 0\n",
      "_________________________________________________________________\n"
     ]
    }
   ],
   "source": [
    "def getSimpleModel():\n",
    "    # simple model with dense layers\n",
    "    simpleModel = Sequential()\n",
    "    simpleModel.add(Flatten(input_shape=input_shape))\n",
    "    simpleModel.add(Dense(512, activation='relu'))\n",
    "    simpleModel.add(Dropout(0.2))\n",
    "    simpleModel.add(Dense(nb_classes, activation='softmax'))\n",
    "\n",
    "    simpleModel.compile(loss='categorical_crossentropy', optimizer='SGD', metrics=['accuracy'])\n",
    "    return simpleModel\n",
    "\n",
    "simpleModel = getSimpleModel()\n",
    "simpleModel.summary()"
   ]
  },
  {
   "cell_type": "markdown",
   "metadata": {},
   "source": [
    "<b>Simple Convolutional Neural Net</b>\n",
    "\n",
    "The second neural net we are using is a convolutional neural net. This network consists of a convolutional layer a max pooling layer and a dense layer in the end. "
   ]
  },
  {
   "cell_type": "code",
   "execution_count": 9,
   "metadata": {},
   "outputs": [
    {
     "name": "stdout",
     "output_type": "stream",
     "text": [
      "_________________________________________________________________\n",
      "Layer (type)                 Output Shape              Param #   \n",
      "=================================================================\n",
      "conv2d_1 (Conv2D)            (None, 26, 26, 32)        320       \n",
      "_________________________________________________________________\n",
      "max_pooling2d_1 (MaxPooling2 (None, 13, 13, 32)        0         \n",
      "_________________________________________________________________\n",
      "dropout_2 (Dropout)          (None, 13, 13, 32)        0         \n",
      "_________________________________________________________________\n",
      "flatten_2 (Flatten)          (None, 5408)              0         \n",
      "_________________________________________________________________\n",
      "dense_3 (Dense)              (None, 128)               692352    \n",
      "_________________________________________________________________\n",
      "dropout_3 (Dropout)          (None, 128)               0         \n",
      "_________________________________________________________________\n",
      "dense_4 (Dense)              (None, 10)                1290      \n",
      "=================================================================\n",
      "Total params: 693,962\n",
      "Trainable params: 693,962\n",
      "Non-trainable params: 0\n",
      "_________________________________________________________________\n"
     ]
    }
   ],
   "source": [
    "# simple cnn\n",
    "def getCNNModel():\n",
    "    nb_filters_one = 32\n",
    "    nb_filters_two = 64\n",
    "    nb_conv = 3\n",
    "    nb_pool = 2\n",
    "    dense_size = 128\n",
    "    cnnModel = Sequential()\n",
    "    cnnModel.add(Conv2D(nb_filters_one, kernel_size=(nb_conv, nb_conv),\n",
    "                     activation='relu',\n",
    "                     input_shape=input_shape))\n",
    "    cnnModel.add(MaxPooling2D(pool_size=(nb_pool, nb_pool)))\n",
    "    cnnModel.add(Dropout(0.25))\n",
    "    cnnModel.add(Flatten())\n",
    "    cnnModel.add(Dense(dense_size, activation='relu'))\n",
    "    cnnModel.add(Dropout(0.5))\n",
    "    cnnModel.add(Dense(nb_classes, activation='softmax'))\n",
    "\n",
    "    cnnModel.compile(loss='categorical_crossentropy', optimizer='SGD', metrics=['accuracy'])\n",
    "    return cnnModel\n",
    "\n",
    "cnnModel = getCNNModel()\n",
    "cnnModel.summary()"
   ]
  },
  {
   "cell_type": "markdown",
   "metadata": {},
   "source": [
    "<b>Exercise 2:</b>  \n",
    "Compare the two different network architectures. What can you say about the number of trainable parameters? Which neural net will probably work better?"
   ]
  },
  {
   "cell_type": "markdown",
   "metadata": {},
   "source": [
    "<b>Your answer:</b>  \n",
    "<b>CNN: first add the convotional layer con2D(),we use this function because you're working with images. we add The ReLU activation function, The next layer is a hidden layer with Dense (512) that has a relu activation function and the last layer is an output layer with Dense (10) that has a softmax activation function, which is needed for this multi-class classification problem.</b>\n",
    "<b>ANN : we have the input layer and one hidden layer with Dense (512) that has a relu activation function and the last layer is an output layer with dense (10) that has a softmax activation function.</b>\n",
    "<b>the difference between the two model is the conventional layer added in CNN</b>\n",
    "<b>the number of the trainable parameters in the CNN (693,962) is bigger that the number in the ANN (407,050) and that due to to the one more layer of CNN.</b>\n",
    "<b>CNN will work better because reducing the complexity of the model (faster training, needs fewer samples, reduces the chance of overfitting).</b>"
   ]
  },
  {
   "cell_type": "markdown",
   "metadata": {},
   "source": [
    "To use the integer label for the neural net training we have to encode them in a one-hot-encoding way."
   ]
  },
  {
   "cell_type": "code",
   "execution_count": 10,
   "metadata": {},
   "outputs": [],
   "source": [
    "oneHotLabelTrain = np_utils.to_categorical(y_train, nb_classes)\n",
    "oneHotLabelTest  = np_utils.to_categorical(y_test,  nb_classes)"
   ]
  },
  {
   "cell_type": "markdown",
   "metadata": {},
   "source": [
    "Now we can train both models and save the training and testing accuracies for the different epochs in a callback. This can really take some time."
   ]
  },
  {
   "cell_type": "code",
   "execution_count": null,
   "metadata": {},
   "outputs": [
    {
     "name": "stdout",
     "output_type": "stream",
     "text": [
      "WARNING:tensorflow:From C:\\Users\\awdii\\Anaconda3\\lib\\site-packages\\tensorflow\\python\\ops\\math_ops.py:3066: to_int32 (from tensorflow.python.ops.math_ops) is deprecated and will be removed in a future version.\n",
      "Instructions for updating:\n",
      "Use tf.cast instead.\n",
      "Train on 60000 samples, validate on 10000 samples\n",
      "Epoch 1/10\n",
      "60000/60000 [==============================] - 28s 458us/step - loss: 12.9450 - acc: 0.1961 - val_loss: 12.8571 - val_acc: 0.2021\n",
      "Epoch 2/10\n",
      "60000/60000 [==============================] - 34s 565us/step - loss: 12.3394 - acc: 0.2340 - val_loss: 12.6543 - val_acc: 0.2148\n",
      "Epoch 3/10\n",
      "60000/60000 [==============================] - 38s 633us/step - loss: 12.1173 - acc: 0.2480 - val_loss: 12.2133 - val_acc: 0.2417\n",
      "Epoch 4/10\n",
      " 5888/60000 [=>............................] - ETA: 32s - loss: 12.2688 - acc: 0.2386"
     ]
    }
   ],
   "source": [
    "batch_size = 128\n",
    "numEpochs =10\n",
    "simpleModel = getSimpleModel()\n",
    "learnHistSimple = simpleModel.fit(x_train,oneHotLabelTrain,validation_data=(x_test,oneHotLabelTest),\n",
    "                                  batch_size=batch_size,\n",
    "                                  epochs=numEpochs)\n",
    "cnnModel = getCNNModel()\n",
    "learnHistCNN    = cnnModel.fit(x_train,oneHotLabelTrain,validation_data=(x_test,oneHotLabelTest),\n",
    "                                  batch_size=batch_size,\n",
    "                                  epochs=numEpochs)"
   ]
  },
  {
   "cell_type": "markdown",
   "metadata": {},
   "source": [
    "<b>Exercise 3:</b>  \n",
    "Plot the learning curves for the two neural nets, showing the training and testing loss over the number of epochs. What are the learning curves telling you?"
   ]
  },
  {
   "cell_type": "code",
   "execution_count": 13,
   "metadata": {},
   "outputs": [
    {
     "data": {
      "image/png": "[encoded data removed]",
      "text/plain": [
       "<Figure size 432x288 with 1 Axes>"
      ]
     },
     "metadata": {
      "needs_background": "light"
     },
     "output_type": "display_data"
    }
   ],
   "source": [
    "# YOUR CODE GOES HERE\n",
    "#print(learnHistCNN.history.keys())\n",
    "# trainig and testing loss for learnHistCNN \n",
    "plt.plot(learnHistSimple.history['loss'])\n",
    "plt.plot(learnHistSimple.history['val_loss'])\n",
    "plt.title('model loss')\n",
    "plt.ylabel('loss')\n",
    "plt.xlabel('epoch')\n",
    "plt.legend(['train', 'test'], loc='upper right')\n",
    "plt.show()"
   ]
  },
  {
   "cell_type": "code",
   "execution_count": 14,
   "metadata": {},
   "outputs": [
    {
     "data": {
      "image/png": "[encoded data removed]",
      "text/plain": [
       "<Figure size 432x288 with 1 Axes>"
      ]
     },
     "metadata": {
      "needs_background": "light"
     },
     "output_type": "display_data"
    }
   ],
   "source": [
    "#training and testing loss for learnHistCNN\n",
    "plt.plot(learnHistCNN.history['loss'])\n",
    "plt.plot(learnHistCNN.history['val_loss'])\n",
    "plt.title('model loss')\n",
    "plt.ylabel('loss')\n",
    "plt.xlabel('epoch')\n",
    "plt.legend(['train', 'test'], loc='lower right')\n",
    "plt.show()"
   ]
  },
  {
   "cell_type": "markdown",
   "metadata": {},
   "source": [
    "<b>Excercise 4:</b>\n",
    "\n",
    "Normalize the input data so that all values are between 0 and 1. After that, retrain the simple model. Are the results better? Can you explain the results?\n",
    "\n",
    "Min-max normalization retains the original distribution of scores except for a scaling factor and transforms all the scores into a common range [0, 1]. However, this method is not robust (i.e., the method is highly sensitive to outliers."
   ]
  },
  {
   "cell_type": "code",
   "execution_count": 15,
   "metadata": {
    "scrolled": false
   },
   "outputs": [
    {
     "name": "stdout",
     "output_type": "stream",
     "text": [
      "Train on 60000 samples, validate on 10000 samples\n",
      "Epoch 1/10\n",
      "60000/60000 [==============================] - 13s 215us/step - loss: 1.1206 - acc: 0.7283 - val_loss: 0.5971 - val_acc: 0.8669\n",
      "Epoch 2/10\n",
      "60000/60000 [==============================] - 11s 181us/step - loss: 0.5490 - acc: 0.8589 - val_loss: 0.4316 - val_acc: 0.8902\n",
      "Epoch 3/10\n",
      "60000/60000 [==============================] - 11s 181us/step - loss: 0.4459 - acc: 0.8782 - val_loss: 0.3720 - val_acc: 0.9021\n",
      "Epoch 4/10\n",
      "60000/60000 [==============================] - 11s 182us/step - loss: 0.3981 - acc: 0.8898 - val_loss: 0.3384 - val_acc: 0.9087\n",
      "Epoch 5/10\n",
      "60000/60000 [==============================] - 11s 183us/step - loss: 0.3675 - acc: 0.8966 - val_loss: 0.3166 - val_acc: 0.9133\n",
      "Epoch 6/10\n",
      "60000/60000 [==============================] - 11s 181us/step - loss: 0.3442 - acc: 0.9031 - val_loss: 0.3008 - val_acc: 0.9168\n",
      "Epoch 7/10\n",
      "60000/60000 [==============================] - 11s 185us/step - loss: 0.3284 - acc: 0.9069 - val_loss: 0.2872 - val_acc: 0.9195\n",
      "Epoch 8/10\n",
      "60000/60000 [==============================] - 11s 185us/step - loss: 0.3128 - acc: 0.9114 - val_loss: 0.2765 - val_acc: 0.9226\n",
      "Epoch 9/10\n",
      "60000/60000 [==============================] - 11s 186us/step - loss: 0.3002 - acc: 0.9156 - val_loss: 0.2669 - val_acc: 0.9240\n",
      "Epoch 10/10\n",
      "60000/60000 [==============================] - 11s 189us/step - loss: 0.2901 - acc: 0.9177 - val_loss: 0.2579 - val_acc: 0.9271\n"
     ]
    }
   ],
   "source": [
    "# YOUR CODE GOES HERE\n",
    "\n",
    "# normalize images\n",
    "x_train_rescaled = x_train/255\n",
    "x_test_rescaled = x_test/255\n",
    "#another way\n",
    "#from keras.utils import normalize\n",
    "#x_train_rescaled=normalize(x_train,axis=-1,order=2)\n",
    "# retrain model\n",
    "batch_size = 128\n",
    "simpleModel = getSimpleModel()\n",
    "learnHistSimple = simpleModel.fit(x_train_rescaled,oneHotLabelTrain,validation_data=(x_test_rescaled,oneHotLabelTest),\n",
    "                                  batch_size=batch_size,\n",
    "                                  epochs=10)\n",
    "x_train_rescaled=(x_train-x_train.min())/(x_train.max()-x_train.min())"
   ]
  },
  {
   "cell_type": "code",
   "execution_count": 16,
   "metadata": {},
   "outputs": [
    {
     "data": {
      "image/png": "[encoded data removed]",
      "text/plain": [
       "<Figure size 432x288 with 1 Axes>"
      ]
     },
     "metadata": {
      "needs_background": "light"
     },
     "output_type": "display_data"
    }
   ],
   "source": [
    "plt.plot(learnHistSimple.history['loss'])\n",
    "plt.plot(learnHistSimple.history['val_loss'])\n",
    "plt.title('model loss')\n",
    "plt.ylabel('loss')\n",
    "plt.xlabel('epoch')\n",
    "plt.legend(['train', 'test'], loc='upper right')\n",
    "plt.show()"
   ]
  },
  {
   "cell_type": "markdown",
   "metadata": {},
   "source": [
    "<b>Excercise 5:</b>\n",
    "    \n",
    "Write a function that randomly places the digits from the input data on a 2-dimensional image of size 28x28. Do this by firstly resizing the image to the size 14x14 and than placing this digit on a grid of 28x28. After that the data set should look like shown in the image above.\n",
    "\n",
    "<img src=\"files/non-centered.png\",width=600,height=600>\n",
    "\n",
    "<b>Hint</b>: Maybe the function cv2.resize(...) could be helpful."
   ]
  },
  {
   "cell_type": "code",
   "execution_count": 13,
   "metadata": {},
   "outputs": [],
   "source": [
    "def add_random_noise(inputData):\n",
    "    out_data = np.zeros(inputData.shape)\n",
    "    # YOUR CODE GOES HERE\n",
    "    for i in range(inputData.shape[0]):\n",
    "        small=cv2.resize(inputData[i,:,:,0],None,fx=0.5,fy=0.5)\n",
    "        k=np.int(np.fix(small.shape[0]*np.random.rand()))\n",
    "        out_data[i,k:k+small.shape[0],k:k+small.shape[1],0]=small\n",
    "    return out_data"
   ]
  },
  {
   "cell_type": "code",
   "execution_count": 18,
   "metadata": {},
   "outputs": [],
   "source": [
    "#another way\n",
    "def add_random_noise(inputData):\n",
    "    out_data = np.zeros(inputData.shape)\n",
    "    for i in range(inputData.shape[0]):\n",
    "        x,y=np.random.randint(low=0,high=14,size=2)\n",
    "        out_data[i,x:(x+14),y:(y+14),0]=cv2.resize(inputData[i,:,:,:],(14,14))\n",
    "    return out_data"
   ]
  },
  {
   "cell_type": "code",
   "execution_count": 7,
   "metadata": {},
   "outputs": [
    {
     "data": {
      "text/plain": [
       "1"
      ]
     },
     "execution_count": 7,
     "metadata": {},
     "output_type": "execute_result"
    }
   ],
   "source": [
    "import numpy as np\n",
    "x,y=np.random.randint(low=0,high=14,size=2)\n"
   ]
  },
  {
   "cell_type": "markdown",
   "metadata": {},
   "source": [
    "Now we can have a look at the new data set of non-centered digits."
   ]
  },
  {
   "cell_type": "code",
   "execution_count": 23,
   "metadata": {},
   "outputs": [
    {
     "data": {
      "image/png": "[encoded data removed]",
      "text/plain": [
       "<Figure size 432x288 with 50 Axes>"
      ]
     },
     "metadata": {
      "needs_background": "light"
     },
     "output_type": "display_data"
    }
   ],
   "source": [
    "# try to create a more realistic data set\n",
    "x_train_non_centered = add_random_noise(x_train)\n",
    "x_test_non_centered = add_random_noise(x_test)\n",
    "\n",
    "for i in range(50):\n",
    "    image = x_train_non_centered[i]\n",
    "    image = image.reshape([img_rows,img_cols])\n",
    "    label = y_train[i]\n",
    "    plt.subplot(5, 10, i + 1)\n",
    "    plt.axis('off')\n",
    "    plt.imshow(image, cmap=plt.cm.gray_r, interpolation='nearest')\n",
    "    plt.title(label)\n",
    "plt.show()\n",
    "\n",
    "\n",
    "# scale data\n",
    "x_train_non_centered /= 255.\n",
    "x_test_non_centered /= 255.\n",
    "\n",
    "if K.image_data_format() == 'channels_first':\n",
    "    x_train_non_centered = x_train_non_centered.reshape(x_train_non_centered.shape[0], 1, img_rows, img_cols)\n",
    "    x_test_non_centered = x_test_non_centered.reshape(x_test_non_centered.shape[0], 1, img_rows, img_cols)\n",
    "    input_shape = (1, img_rows, img_cols)\n",
    "else:\n",
    "    x_train_non_centered = x_train_non_centered.reshape(x_train_non_centered.shape[0], img_rows, img_cols, 1)\n",
    "    x_test_non_centered = x_test_non_centered.reshape(x_test_non_centered.shape[0], img_rows, img_cols, 1)\n",
    "    input_shape = (img_rows, img_cols, 1)\n"
   ]
  },
  {
   "cell_type": "markdown",
   "metadata": {},
   "source": [
    "<b>Excercise 6:</b>\n",
    "    \n",
    "Train the simple nn and the cnn on this new data set for 10 epochs and compare the trainng and testing results with each other. What conclusions can you draw?"
   ]
  },
  {
   "cell_type": "code",
   "execution_count": null,
   "metadata": {},
   "outputs": [
    {
     "name": "stdout",
     "output_type": "stream",
     "text": [
      "Train on 60000 samples, validate on 10000 samples\n",
      "Epoch 1/10\n",
      "60000/60000 [==============================] - 16s 263us/step - loss: 13.7943 - acc: 0.1397 - val_loss: 13.1777 - val_acc: 0.1773\n",
      "Epoch 2/10\n",
      "60000/60000 [==============================] - 11s 190us/step - loss: 12.7823 - acc: 0.2029 - val_loss: 12.4503 - val_acc: 0.2242\n",
      "Epoch 3/10\n",
      "60000/60000 [==============================] - 11s 190us/step - loss: 12.2411 - acc: 0.2368 - val_loss: 12.1061 - val_acc: 0.2466\n",
      "Epoch 4/10\n",
      "60000/60000 [==============================] - 11s 191us/step - loss: 12.0657 - acc: 0.2478 - val_loss: 11.7843 - val_acc: 0.2643\n",
      "Epoch 5/10\n",
      "60000/60000 [==============================] - 12s 201us/step - loss: 11.7274 - acc: 0.2684 - val_loss: 11.6047 - val_acc: 0.2742\n",
      "Epoch 6/10\n",
      "60000/60000 [==============================] - 12s 193us/step - loss: 11.3545 - acc: 0.2901 - val_loss: 11.2708 - val_acc: 0.2957\n",
      "Epoch 7/10\n",
      "60000/60000 [==============================] - 12s 196us/step - loss: 10.9312 - acc: 0.3159 - val_loss: 10.9885 - val_acc: 0.3114\n",
      "Epoch 8/10\n",
      "60000/60000 [==============================] - 12s 196us/step - loss: 10.4987 - acc: 0.3426 - val_loss: 10.2816 - val_acc: 0.3566\n",
      "Epoch 9/10\n",
      "60000/60000 [==============================] - 12s 196us/step - loss: 10.3028 - acc: 0.3546 - val_loss: 10.0384 - val_acc: 0.3714\n",
      "Epoch 10/10\n",
      "60000/60000 [==============================] - 12s 200us/step - loss: 9.9902 - acc: 0.3736 - val_loss: 9.8273 - val_acc: 0.3851\n"
     ]
    }
   ],
   "source": [
    "batch_size = 128\n",
    "numsEpochs=10\n",
    "# YOUR CODE GOES HERE\n",
    "simpleModel = getSimpleModel()\n",
    "cnnModel = getCNNModel()\n",
    "learnHistSimple = simpleModel.fit(x_train_non_centered,oneHotLabelTrain,validation_data=(x_test_non_centered,oneHotLabelTest),\n",
    "                                  batch_size=batch_size,\n",
    "                                  epochs=numEpochs)\n",
    "learnHistCNN = cnnModel.fit(x_train_non_centered,oneHotLabelTrain,validation_data=(x_test_non_centered,oneHotLabelTest),\n",
    "                                  batch_size=batch_size,\n",
    "                                  epochs=numEpochs)\n"
   ]
  },
  {
   "cell_type": "markdown",
   "metadata": {},
   "source": [
    "<b>Additional Excercise</b>\n",
    "\n",
    "Try to build a model that is able to get better classification results on the non-centered data set."
   ]
  }
 ],
 "metadata": {
  "anaconda-cloud": {},
  "kernelspec": {
   "display_name": "Python 3",
   "language": "python",
   "name": "python3"
  },
  "language_info": {
   "codemirror_mode": {
    "name": "ipython",
    "version": 3
   },
   "file_extension": ".py",
   "mimetype": "text/x-python",
   "name": "python",
   "nbconvert_exporter": "python",
   "pygments_lexer": "ipython3",
   "version": "3.6.5"
  }
 },
 "nbformat": 4,
 "nbformat_minor": 1
}
